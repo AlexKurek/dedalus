{
 "cells": [
  {
   "cell_type": "markdown",
   "metadata": {},
   "source": [
    "# Tutorial 1: Coordinates, Distributors, and Bases"
   ]
  },
  {
   "cell_type": "markdown",
   "metadata": {},
   "source": [
    "**Overview:** This tutorial covers the basics of setting up and interacting with coordinate, distributor, and basis objects in Dedalus.\n",
    "Dedalus uses spectral discretizations to represent fields and solve PDEs.\n",
    "These discretizations are specified by selecting a spectral basis for the spatial coordinates of a problem.\n",
    "The set of all coordinates needed in a problem are used to construct a distributor that controls how fields and problems defined on bases over these coordinates are distributed in parallel."
   ]
  },
  {
   "cell_type": "code",
   "execution_count": 1,
   "metadata": {},
   "outputs": [
    {
     "name": "stdout",
     "output_type": "stream",
     "text": [
      "2021-11-20 21:25:18,684 numexpr.utils 0/1 INFO :: Note: NumExpr detected 10 cores but \"NUMEXPR_MAX_THREADS\" not set, so enforcing safe limit of 8.\n"
     ]
    }
   ],
   "source": [
    "import numpy as np\n",
    "import matplotlib.pyplot as plt\n",
    "import dedalus.public as d3"
   ]
  },
  {
   "cell_type": "code",
   "execution_count": 2,
   "metadata": {},
   "outputs": [],
   "source": [
    "%matplotlib inline\n",
    "%config InlineBackend.figure_format = 'retina'"
   ]
  },
  {
   "cell_type": "markdown",
   "metadata": {},
   "source": [
    "## 1.1: Coordinates"
   ]
  },
  {
   "cell_type": "markdown",
   "metadata": {},
   "source": [
    "The spatial coordinates in a PDE are represented by coordinate objects in Dedalus.\n",
    "Individual coordinates can be defined using the `Coordinate` class, which is primarily used for 1D problems.\n",
    "In multiple dimensions, multiple coordinates can be constructed together as a `CoordinateSystem`.\n",
    "The currently included coordinate systems are:\n",
    "* `CartesianCoordinates` of any dimension.\n",
    "* `PolarCoordinates` with azimuth and radius.\n",
    "* `S2Coordinates` with azimuth and colatitude.\n",
    "* `SphericalCoordaintes` with azimuth, colatitude, and radius.\n",
    "\n",
    "When instantiating a `CoordinateSystem`, we provide the names we'd like to use for each coordinate, ordered as described in the list above.\n",
    "Let's follow an example of setting up a problem in 3D Cartesia. coordinates."
   ]
  },
  {
   "cell_type": "code",
   "execution_count": 3,
   "metadata": {},
   "outputs": [],
   "source": [
    "coords = d3.CartesianCoordinates('x', 'y', 'z')"
   ]
  },
  {
   "cell_type": "markdown",
   "metadata": {},
   "source": [
    "## 1.2: Distributors"
   ]
  },
  {
   "cell_type": "markdown",
   "metadata": {},
   "source": [
    "`Distributor` objects direct the parallel decomposition of fields and problems, and is needed for all problems, even in serial.\n",
    "To build a distributor, we pass the coordinate system of our PDE, specify the datatype of the fields we'll be using, and optionally specify a process mesh for parallelization."
   ]
  },
  {
   "cell_type": "code",
   "execution_count": 4,
   "metadata": {},
   "outputs": [],
   "source": [
    "dist = d3.Distributor(coords, dtype=np.float64) # No mesh for serial / automatic parallelization"
   ]
  },
  {
   "cell_type": "markdown",
   "metadata": {},
   "source": [
    "### Parallelization & process meshes"
   ]
  },
  {
   "cell_type": "markdown",
   "metadata": {},
   "source": [
    "When running in an MPI environment, Dedalus uses block-distributed domain decompositions to parallelize computation.\n",
    "By default, problems are distributed across a 1-dimensional mesh of all the available MPI processes (i.e. a \"slab\" decomposition).\n",
    "However, arbitrary process meshes (i.e. \"pencil\" decompositions) can be used by specifying a mesh shape with the `mesh` keyword when instantiating a domain.\n",
    "The current MPI environment must have the same number of processes as the product of the mesh shape.\n",
    "\n",
    "The mesh dimension must be less than or equal to the number of  separable coordinates in the linear part of our PDE.\n",
    "Typically this means we can parallelize over an periodic and angular coordinates.\n",
    "For fully separable problems, the mesh dimension must be less than the total dimension."
   ]
  },
  {
   "cell_type": "markdown",
   "metadata": {},
   "source": [
    "### Layouts"
   ]
  },
  {
   "cell_type": "markdown",
   "metadata": {},
   "source": [
    "The distributor object builds the machinery necessary for the parallelized allocation and transformation of fields.  This includes an ordered set of `Layout` objects describing the necessary transform/distribution states of the data between coefficient space and grid space.\n",
    "Subsequent layouts are connected by basis transforms, which must be performed locally, and global transposes (rearrangements of the data distribution across the process mesh) to achieve the required locality.\n",
    "\n",
    "The general algorithm starts from coefficient space (layout 0), with the last axis local (non-distributed).\n",
    "It proceeds towards grid space by transforming the last axis into grid space (layout 1).\n",
    "Then it globally transposes the data (if necessary) such that the penultimate axis is local, transforms that axis into grid space, etc., until all axes have been transformed to grid space (the last layout).\n",
    "\n",
    "Let's examine the layouts for the domain we just constructed.\n",
    "For serial computations such as this, no global transposes are necessary (all axes are always local), and the paths between layouts consist of coefficient-to-grid transforms, backwards from the last axis:"
   ]
  },
  {
   "cell_type": "code",
   "execution_count": 5,
   "metadata": {},
   "outputs": [
    {
     "name": "stdout",
     "output_type": "stream",
     "text": [
      "Layout 0:  Grid space: [False False False]  Local: [ True  True  True]\n",
      "Layout 1:  Grid space: [False False  True]  Local: [ True  True  True]\n",
      "Layout 2:  Grid space: [False  True  True]  Local: [ True  True  True]\n",
      "Layout 3:  Grid space: [ True  True  True]  Local: [ True  True  True]\n"
     ]
    }
   ],
   "source": [
    "for layout in dist.layouts:\n",
    "    print('Layout {}:  Grid space: {}  Local: {}'.format(layout.index, layout.grid_space, layout.local))"
   ]
  },
  {
   "cell_type": "markdown",
   "metadata": {},
   "source": [
    "To see how things work for a distributed simulation, we'll change the specified process mesh shape and rebuild the layout objects, circumventing the internal checks on the number of available processes, etc.\n",
    "\n",
    "**Note this is for demonstration only... messing with these attributes will generally break things.**"
   ]
  },
  {
   "cell_type": "code",
   "execution_count": 6,
   "metadata": {},
   "outputs": [],
   "source": [
    "# Don't do this. For illustration only.\n",
    "dist.mesh = np.array([4, 2])\n",
    "dist.comm_coords = np.array([0, 0])\n",
    "dist._build_layouts(dry_run=True)"
   ]
  },
  {
   "cell_type": "code",
   "execution_count": 7,
   "metadata": {},
   "outputs": [
    {
     "name": "stdout",
     "output_type": "stream",
     "text": [
      "Layout 0:  Grid space: [False False False]  Local: [False False  True]\n",
      "Layout 1:  Grid space: [False False  True]  Local: [False False  True]\n",
      "Layout 2:  Grid space: [False False  True]  Local: [False  True False]\n",
      "Layout 3:  Grid space: [False  True  True]  Local: [False  True False]\n",
      "Layout 4:  Grid space: [False  True  True]  Local: [ True False False]\n",
      "Layout 5:  Grid space: [ True  True  True]  Local: [ True False False]\n"
     ]
    }
   ],
   "source": [
    "for layout in dist.layouts:\n",
    "    print('Layout {}:  Grid space: {}  Local: {}'.format(layout.index, layout.grid_space, layout.local))"
   ]
  },
  {
   "cell_type": "markdown",
   "metadata": {},
   "source": [
    "We can see that there are now two additional layouts, corresponding to the transposed states of the mixed-transform layouts.\n",
    "Two global transposes are necessary here in order for the $y$ and $x$ axes to be stored locally, which is required to perform the respective basis transforms.\n",
    "Here's a sketch of the data distribution in the different layouts:\n",
    "\n",
    "<img src=\"fig_layouts_fold.png\" width=\"800px\">"
   ]
  },
  {
   "cell_type": "markdown",
   "metadata": {},
   "source": [
    "Interacting with the layout objects directly is typically not necessary, but being aware of this system for controlling the distribution and tranformation state of data is important for interacting with field objects, as we'll see in future notebooks."
   ]
  },
  {
   "cell_type": "markdown",
   "metadata": {},
   "source": [
    "## 1.3: Bases"
   ]
  },
  {
   "cell_type": "markdown",
   "metadata": {},
   "source": [
    "### Creating a basis"
   ]
  },
  {
   "cell_type": "markdown",
   "metadata": {},
   "source": [
    "Each type of basis in Dedalus is represented by a separate class.\n",
    "These classes define the corresponding spectral operators and transforms between the \"grid space\" and \"coefficient space\" representations of functions in that basis.\n",
    "The most commonly used bases are:\n",
    "\n",
    "* `RealFourier` for real periodic functions on an interval using cosine & sine modes.\n",
    "* `ComplexFourier` for complex periodic functions on an interval using complex exponentials.\n",
    "* `Chebyshev` for functions on an interval.\n",
    "* `Jacobi` for functions on an interval under a more general inner product (usually `Chebyshev` is best for performance).\n",
    "* `DiskBasis` for functions on a full disk in polar coordinates.\n",
    "* `AnnulusBasis` for functions on an annulus in polar coordinates.\n",
    "* `SphereBasis` for functions on the 2-sphere in S2 or spherical coordinates.\n",
    "* `BallBasis` for functions on a full ball in spherical coordinates.\n",
    "* `ShellBasis` for functions on a spherical shell in spherical coordinates.\n",
    "\n",
    "The one-dimensional / Cartesian bases are instantiated with:\n",
    "* the corresponding coordinate object,\n",
    "* the number of modes for the basis,\n",
    "* the bounds of the basis interval.\n",
    "\n",
    "The multidimensional / curvilinear bases are instantiated with:\n",
    "* the corresponding coordinate system,\n",
    "* the multidimensional mode shape for the basis, \n",
    "* the radial extent of the basis, \n",
    "* the problem dtype.\n",
    "\n",
    "Optionally, for all bases you can specify a dealiasing scale factors for each basis axis, indicating how much to pad the included modes when transforming to grid space.\n",
    "To properly dealias quadratic nonlinearities, for instance, you would need a scaling factor of 3/2."
   ]
  },
  {
   "cell_type": "code",
   "execution_count": 8,
   "metadata": {},
   "outputs": [],
   "source": [
    "xbasis = d3.RealFourier(coords['x'], size=32, bounds=(0,1), dealias=3/2)\n",
    "ybasis = d3.RealFourier(coords['y'], size=32, bounds=(0,1), dealias=3/2)\n",
    "zbasis = d3.Chebyshev(coords['z'], size=32, bounds=(0,1), dealias=3/2)"
   ]
  },
  {
   "cell_type": "markdown",
   "metadata": {},
   "source": [
    "Some bases have other arguments that can be used to modify their exact internal behavior.\n",
    "See the [basis.py API documentation](https://dedalus-project.readthedocs.io/en/latest/autoapi/dedalus/core/basis/index.html) for more information."
   ]
  },
  {
   "cell_type": "markdown",
   "metadata": {},
   "source": [
    "### Basis grids and scale factors"
   ]
  },
  {
   "cell_type": "markdown",
   "metadata": {},
   "source": [
    "Each basis has a corresponding coordinate/collocation grid (or grids for multidimensional bases) that can be used for tasks like initializing and plotting fields.\n",
    "The global (non-distributed) grids of a basis can be accessed using the basis object's `global_grid` method (or `global_grids` for multidimensional bases).\n",
    "These methods optionally take scale factors determining the number of points in the grid relative to the number of basis modes.\n",
    "Let's look at the Chebyshev grids with scaling factors of 1 and 3/2."
   ]
  },
  {
   "cell_type": "code",
   "execution_count": 9,
   "metadata": {},
   "outputs": [
    {
     "data": {
      "image/png": "[encoded data removed]",
      "text/plain": [
       "<Figure size 600x150 with 1 Axes>"
      ]
     },
     "metadata": {
      "image/png": {
       "height": 140,
       "width": 589
      },
      "needs_background": "light"
     },
     "output_type": "display_data"
    }
   ],
   "source": [
    "grid_normal = xbasis.global_grid(scale=1).ravel()\n",
    "grid_dealias = xbasis.global_grid(scale=3/2).ravel()\n",
    "\n",
    "plt.figure(figsize=(6, 1.5), dpi=100)\n",
    "plt.plot(grid_normal, 0*grid_normal+1, 'o', markersize=5)\n",
    "plt.plot(grid_dealias, 0*grid_dealias-1, 'o', markersize=5)\n",
    "plt.xlabel('x')\n",
    "plt.title('Chebyshev grid with scales 1 and 3/2')\n",
    "plt.ylim([-2, 2])\n",
    "plt.gca().yaxis.set_ticks([]);\n",
    "plt.tight_layout()"
   ]
  },
  {
   "cell_type": "markdown",
   "metadata": {},
   "source": [
    "Note that the Chebyshev grids are non-equispaced: the grid points cluster quadratically towards the ends of the interval, which can be very useful for resolving sharp features like boundary layers."
   ]
  },
  {
   "cell_type": "markdown",
   "metadata": {},
   "source": [
    "### Distributed grid and element arrays"
   ]
  },
  {
   "cell_type": "markdown",
   "metadata": {},
   "source": [
    "To help with creating field data, the distributor provides the local portions of the coordinate grids and mode numbers (wavenumbers or polynomial degrees).\n",
    "The local grids (distributed according to the last layout, or full \"grid space\") are accessed using the `dist.local_grid` (or `dist.local_grids` for multidimensional bases) method and specifying the basis and scale factors (1 by default):"
   ]
  },
  {
   "cell_type": "code",
   "execution_count": 10,
   "metadata": {},
   "outputs": [
    {
     "name": "stdout",
     "output_type": "stream",
     "text": [
      "Local x shape: (32, 1, 1)\n",
      "Local y shape: (1, 8, 1)\n",
      "Local z shape: (1, 1, 16)\n"
     ]
    }
   ],
   "source": [
    "local_x = dist.local_grid(xbasis)\n",
    "local_y = dist.local_grid(ybasis)\n",
    "local_z = dist.local_grid(zbasis)\n",
    "print('Local x shape:', local_x.shape)\n",
    "print('Local y shape:', local_y.shape)\n",
    "print('Local z shape:', local_z.shape)"
   ]
  },
  {
   "cell_type": "markdown",
   "metadata": {},
   "source": [
    "The local x grid is the full Fourier grid for the x-basis, and will be the same on all processes, since the first axis is local in grid space.\n",
    "The local y and local z grids will generally differ across processes, since they contain just the local portions of the y and z basis grids, distributed across the specified process mesh (4 blocks in y and 2 blocks in z).\n",
    "\n",
    "The local modes (distributed according to layout 0, or full \"coeff space\") are accessed using the `dist.local_modes` method and specifying the basis:"
   ]
  },
  {
   "cell_type": "code",
   "execution_count": 11,
   "metadata": {},
   "outputs": [
    {
     "name": "stdout",
     "output_type": "stream",
     "text": [
      "Local kx shape: (8, 1, 1)\n",
      "Local ky shape: (1, 16, 1)\n",
      "Local nz shape: (1, 1, 32)\n"
     ]
    }
   ],
   "source": [
    "local_kx = dist.local_modes(xbasis)\n",
    "local_ky = dist.local_modes(ybasis)\n",
    "local_nz = dist.local_modes(zbasis)\n",
    "print('Local kx shape:', local_kx.shape)\n",
    "print('Local ky shape:', local_ky.shape)\n",
    "print('Local nz shape:', local_nz.shape)"
   ]
  },
  {
   "cell_type": "markdown",
   "metadata": {},
   "source": [
    "The local kx and local ky elements will now differ across processes, since they contain just the local portions of the x and y wavenumbers, which are distributed in coefficient space.\n",
    "The local nz elements are the full set of Chebyshev modes, which are always local in coefficient space.\n",
    "\n",
    "These local arrays can be used to form parallel-safe initial conditions for fields, in grid or coefficient space, as we'll see in the next notebook."
   ]
  }
 ],
 "metadata": {
  "kernelspec": {
   "display_name": "Python [conda env:d3]",
   "language": "python",
   "name": "conda-env-d3-py"
  },
  "language_info": {
   "codemirror_mode": {
    "name": "ipython",
    "version": 3
   },
   "file_extension": ".py",
   "mimetype": "text/x-python",
   "name": "python",
   "nbconvert_exporter": "python",
   "pygments_lexer": "ipython3",
   "version": "3.8.12"
  }
 },
 "nbformat": 4,
 "nbformat_minor": 1
}
